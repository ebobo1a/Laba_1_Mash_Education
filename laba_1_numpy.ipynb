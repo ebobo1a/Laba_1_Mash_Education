{
 "cells": [
  {
   "cell_type": "markdown",
   "metadata": {
    "id": "vC84e9kzyxPy"
   },
   "source": [
    "<h1>Импорт библиотек"
   ]
  },
  {
   "cell_type": "code",
   "execution_count": 2,
   "metadata": {
    "id": "cgKeNegmQG5S"
   },
   "outputs": [],
   "source": [
    "import numpy as np\n",
    "import matplotlib.pyplot as plt"
   ]
  },
  {
   "cell_type": "markdown",
   "metadata": {
    "id": "qFM9uVU2x4Ls"
   },
   "source": [
    "<h1>Задача 1. Дан набор из $p$ матриц размерностью $(n, n)$ и $p$ векторов размерностью $(n, 1)$, найти сумму произведений матриц на векторы. Написать тесты для кода"
   ]
  },
  {
   "cell_type": "code",
   "execution_count": null,
   "metadata": {
    "id": "IAbUvEiYyWFF"
   },
   "outputs": [
    {
     "name": "stdout",
     "output_type": "stream",
     "text": [
      "Сумма произведений матриц на векторы:\n",
      "[[25.]\n",
      " [37.]]\n"
     ]
    }
   ],
   "source": [
    "import numpy as np\n",
    "\n",
    "\n",
    "def sum_prod(X, V):\n",
    "    n = X[0].shape[0]  # Предполагаем, что все матрицы имеют одинаковый размер (n, n)\n",
    "    \n",
    "    # Создаем начальный результирующий вектор размером (n, 1), заполненный нулями\n",
    "    result = np.zeros((n, 1))\n",
    "    \n",
    "    # Перебираем пары (матрица, вектор) из списков X и V\n",
    "    for matrix, vector in zip(X, V):\n",
    "        # Умножаем текущую матрицу на соответствующий вектор и добавляем к результату\n",
    "        result += np.dot(matrix, vector)  # np.dot выполняет матричное умножение\n",
    "    \n",
    "    # Возвращаем итоговый вектор (сумму всех произведений)\n",
    "    return result\n",
    "\n",
    "\n",
    "# Определим список матриц X\n",
    "X = [\n",
    "    np.array([[1, 2], [3, 4]]),      # Матрица 1 (размер 2x2)\n",
    "    np.array([[5, 6], [7, 8]])       # Матрица 2 (размер 2x2)\n",
    "]\n",
    "\n",
    "# Определим соответствующий список векторов V\n",
    "V = [\n",
    "    np.array([[1], [1]]),            # Вектор 1 (размер 2x1)\n",
    "    np.array([[2], [2]])             # Вектор 2 (размер 2x1)\n",
    "]\n",
    "\n",
    "# Вызов функции sum_prod и сохранение результата\n",
    "result = sum_prod(X, V)\n",
    "\n",
    "print(result)\n"
   ]
  },
  {
   "cell_type": "markdown",
   "metadata": {
    "id": "TKwPG4fIy2w4"
   },
   "source": [
    "<h1>Задача 2. Дана матрица M, напишите функцию, которая бинаризует матрицу по некоторому threshold (то есть, все значения большие threshold становятся равными 1, иначе 0). Напишите тесты для кода"
   ]
  },
  {
   "cell_type": "code",
   "execution_count": 3,
   "metadata": {
    "id": "KQDNMgsjRNH7"
   },
   "outputs": [],
   "source": [
    "import numpy as np\n",
    "\n",
    "def binarize(M, threshold):\n",
    "    # Применяем условие, возвращаем матрицу из 0 и 1\n",
    "    return (M > threshold).astype(int)\n",
    "\n",
    "def run_tests():\n",
    "    # Тест 1: простая матрица 2x2\n",
    "    M1 = np.array([[0, 2], [3, 1]])\n",
    "    threshold1 = 1\n",
    "run_tests()"
   ]
  },
  {
   "cell_type": "markdown",
   "metadata": {
    "id": "IY5L-h-7zWhN"
   },
   "source": [
    "<h1>Задача 3. Напишите функцию, которая возвращает уникальные элементы из каждой строки матрицы. Напишите такую же функцию, но для столбцов. Напишите тесты для кода"
   ]
  },
  {
   "cell_type": "code",
   "execution_count": null,
   "metadata": {
    "id": "-8dEZhR0SBC-"
   },
   "outputs": [
    {
     "name": "stdout",
     "output_type": "stream",
     "text": [
      "Тест уникальные элементы по строкам: [[1, 2, 3], [4, 5], [6, 7]]\n",
      "Тест уникальные элементы по столбцам: [[1, 4, 6], [2, 4, 7], [2, 5, 7], [3, 5, 6]]\n"
     ]
    }
   ],
   "source": [
    "def unique_rows(mat):\n",
    "    return [np.unique(row).tolist() for row in mat]\n",
    "\n",
    "def unique_columns(mat):\n",
    "    \n",
    "    #Возвращает уникальные элементы из каждого столбца матрицы.\n",
    "\n",
    "    #Параметры:\n",
    "    #mat (np.ndarray): входная матрица\n",
    "\n",
    "    #Возвращает:\n",
    "    #list of lists: список уникальных элементов для каждого столбца'''\n",
    "    return [np.unique(mat[:, col]).tolist() for col in range(mat.shape[1])]\n",
    "\n",
    "\n",
    "def run_tests():\n",
    "    # Тестовая матрица\n",
    "    mat = np.array([\n",
    "        [1, 2, 2, 3],\n",
    "        [4, 4, 5, 5],\n",
    "        [6, 7, 7, 6]\n",
    "    ])\n",
    "\n",
    "    # Тест для уникальных элементов по строкам\n",
    "    print(\"Тест уникальные элементы по строкам:\", unique_rows(mat))\n",
    "    # Ожидаемый результат: [[1, 2, 3], [4, 5], [6, 7]]\n",
    "\n",
    "    # Тест для уникальных элементов по столбцам\n",
    "    print(\"Тест уникальные элементы по столбцам:\", unique_columns(mat))\n",
    "    # Ожидаемый результат: [[1, 4, 6], [2, 4, 7], [2, 5, 7], [3, 5, 6]]\n",
    "\n",
    "# Запуск тестов\n",
    "run_tests()"
   ]
  },
  {
   "cell_type": "markdown",
   "metadata": {
    "id": "roYAlo4Jz-lH"
   },
   "source": [
    "<h1>Задача 4. Напишите функцию, которая заполняет матрицу с размерами $(m, n)$ случайными числами, распределенными по нормальному закону. Затем считает мат. ожидание и дисперсию для каждого из столбцов и строк, а также строит для каждой строки и столбца гистограмму значений (использовать функцию hist из модуля matplotlib.plot)"
   ]
  },
  {
   "cell_type": "code",
   "execution_count": null,
   "metadata": {
    "id": "nZK_71hMSQzv"
   },
   "outputs": [
    {
     "name": "stdout",
     "output_type": "stream",
     "text": [
      "Тест 1:\n",
      " [[1 0 1]\n",
      " [0 1 0]\n",
      " [1 0 1]]\n"
     ]
    }
   ],
   "source": [
    "# Your code goes here\n",
    "import numpy as np\n",
    "\n",
    "def chessboard_matrix(m, n, a, b):\n",
    "    matrix = np.empty((m, n), dtype=type(a))  # создаём пустую матрицу указанного размера и типа a\n",
    "    for i in range(m):\n",
    "        for j in range(n):\n",
    "            # Чередование значений a и b в зависимости от индексов\n",
    "            matrix[i, j] = a if (i + j) % 2 == 0 else b\n",
    "    return matrix\n",
    "\n",
    "def run_tests():\n",
    "    # Тест 1: матрица 3x3, значения 1 и 0\n",
    "    print(\"Тест 1:\\n\", chessboard_matrix(3, 3, 1, 0))\n",
    "    # Ожидаемый результат:\n",
    "    # [[1, 0, 1],\n",
    "    #  [0, 1, 0],\n",
    "    #  [1, 0, 1]]\n",
    "run_tests()"
   ]
  },
  {
   "cell_type": "markdown",
   "metadata": {
    "id": "BDyATNdM0dJ2"
   },
   "source": [
    "<h1>Задача 5. Напишите функцию, которая заполняет матрицу $(m, n)$ в шахматном порядке заданными числами $a$ и $b$. Напишите тесты для кода"
   ]
  },
  {
   "cell_type": "code",
   "execution_count": 9,
   "metadata": {
    "id": "RWNJYWQGecS6"
   },
   "outputs": [
    {
     "name": "stdout",
     "output_type": "stream",
     "text": [
      "Тест 1:\n",
      " [[1 0 1]\n",
      " [0 1 0]\n",
      " [1 0 1]]\n"
     ]
    }
   ],
   "source": [
    "import numpy as np\n",
    "\n",
    "def chess(m, n, a, b):\n",
    "    matrix = np.empty((m, n), dtype=type(a))  # создаём пустую матрицу указанного размера и типа a\n",
    "    for i in range(m):\n",
    "        for j in range(n):\n",
    "            # Чередование значений a и b в зависимости от индексов\n",
    "            matrix[i, j] = a if (i + j) % 2 == 0 else b\n",
    "    return matrix\n",
    "\n",
    "# Тестирование функции\n",
    "def run_tests():\n",
    "    # Тест 1: матрица 3x3, значения 1 и 0\n",
    "    print(\"Тест 1:\\n\", chessboard_matrix(3, 3, 1, 0))\n",
    "    # Ожидаемый результат:\n",
    "    # [[1, 0, 1],\n",
    "    #  [0, 1, 0],\n",
    "    #  [1, 0, 1]]\n",
    "run_tests()"
   ]
  },
  {
   "cell_type": "markdown",
   "metadata": {
    "id": "-ymXLtTN0vB6"
   },
   "source": [
    "<h1>Задача 6. Напишите функцию, которая отрисовывает прямоугольник с заданными размерами (a, b) на изображении размера (m, n), цвет фона задайте в схеме RGB, как и цвет прямоугольника. Цвета также должны быть параметрами функции. Напишите аналогичную функцию но для овала с полуосями a и b. Напишите тесты для кода.\n",
    "Примечание: уравнение эллипса (границы овала) можно записать как:\n",
    "<h1>$\\frac{(x-x_0)^2}{a^2}+\\frac{(y-y_0)^2}{b^2}=1$"
   ]
  },
  {
   "cell_type": "code",
   "execution_count": 10,
   "metadata": {
    "id": "sNfl1t_kfOF4"
   },
   "outputs": [],
   "source": [
    "from PIL import Image, ImageDraw\n",
    "\n",
    "def draw_rectangle(a, b, m, n, rectangle_color, background_color):\n",
    "    # Создаём изображение с фоновым цветом\n",
    "    img = Image.new(\"RGB\", (n, m), background_color)\n",
    "    draw = ImageDraw.Draw(img)\n",
    "\n",
    "    # Вычисляем координаты для центрирования прямоугольника\n",
    "    top_left = ((n - a) // 2, (m - b) // 2)\n",
    "    bottom_right = (top_left[0] + a, top_left[1] + b)\n",
    "    \n",
    "    # Рисуем прямоугольник\n",
    "    draw.rectangle([top_left, bottom_right], fill=rectangle_color)\n",
    "    return img\n",
    "\n",
    "\n",
    "def run_tests():\n",
    "    # Тест 1: Прямоугольник на изображении 200x200, с размерами 100x50, синим фоном и красным прямоугольником\n",
    "    img1 = draw_rectangle(100, 50, 200, 200, (255, 0, 0), (0, 0, 255))\n",
    "    img1.show(title=\"Прямоугольник\")\n",
    "\n",
    "run_tests()"
   ]
  },
  {
   "cell_type": "markdown",
   "metadata": {
    "id": "S82c38oz244H"
   },
   "source": [
    "<h1>Задача 7. Дан некий временной ряд. Для данного ряда нужно найти его: математическое ожидание, дисперсию, СКО, найти все локальные максимумы и минимумы (локальный максимум - это точка, которая больше своих соседних точек, а локальный минимум - это точка, которая меньше своих соседей), а также вычислить для данного ряда другой ряд, получаемый методом скользящего среднего с размером окна $p$.\n",
    "<h1>Примечание: метод скользящего среднего подразумевает нахождение среднего из подмножетсва ряда размером $p$"
   ]
  },
  {
   "cell_type": "code",
   "execution_count": null,
   "metadata": {
    "id": "Zb9mIVge5MMt"
   },
   "outputs": [],
   "source": [
    "import numpy as np\n",
    "\n",
    "def analyze_time_series(series, p):\n",
    "    # Преобразуем ряд в массив numpy для удобства\n",
    "    series = np.array(series)\n",
    "\n",
    "    # 1. Математическое ожидание\n",
    "    mean = np.mean(series)\n",
    "    \n",
    "    # 2. Дисперсия\n",
    "    variance = np.var(series)\n",
    "    \n",
    "    # 3. Среднеквадратическое отклонение (СКО)\n",
    "    std_dev = np.std(series)\n",
    "    \n",
    "    # 4. Локальные максимумы и минимумы\n",
    "    local_maxima = []\n",
    "    local_minima = []\n",
    "    for i in range(1, len(series) - 1):\n",
    "        if series[i] > series[i - 1] and series[i] > series[i + 1]:\n",
    "            local_maxima.append((i, series[i]))  # (индекс, значение)\n",
    "        elif series[i] < series[i - 1] and series[i] < series[i + 1]:\n",
    "            local_minima.append((i, series[i]))  # (индекс, значение)\n",
    "\n",
    "    # 5. Скользящее среднее с размером окна p\n",
    "    moving_average = np.convolve(series, np.ones(p) / p, mode='valid')\n",
    "\n",
    "    # Возвращаем результаты в виде словаря\n",
    "    return {\n",
    "        \"mean\": mean,\n",
    "        \"variance\": variance,\n",
    "        \"std_dev\": std_dev,\n",
    "        \"local_maxima\": local_maxima,\n",
    "        \"local_minima\": local_minima,\n",
    "        \"moving_average\": moving_average\n",
    "    }\n"
   ]
  },
  {
   "cell_type": "markdown",
   "metadata": {
    "id": "jPkylmOX5O9n"
   },
   "source": [
    "<h1> Задача 8. Дан некоторый вектор с целочисленными метками классов, напишите функцию, которая выполняет one-hot-encoding для данного вектора\n",
    "<h1> One-hot-encoding - представление, в котором на месте метки некоторого класса стоит 1, в остальных позициях стоит 0. Например для вектора [0, 2, 3, 0] one-hot-encoding выглядит как: [[1, 0, 0, 0], [0, 0, 1, 0], [0, 0, 0, 1], [1, 0, 0, 0]]"
   ]
  },
  {
   "cell_type": "code",
   "execution_count": null,
   "metadata": {
    "id": "Y-jlnZvw56lD"
   },
   "outputs": [],
   "source": [
    "import numpy as np\n",
    "\n",
    "def one_hot_encoding(labels, num_classes=None):\n",
    "\n",
    "    # Преобразуем labels в numpy-массив для удобства\n",
    "    labels = np.array(labels)\n",
    "\n",
    "    # Если num_classes не передан, определим его как максимальное значение метки + 1\n",
    "    if num_classes is None:\n",
    "        num_classes = np.max(labels) + 1\n",
    "\n",
    "    # Создаём матрицу с нулями и затем ставим единицы в нужных местах\n",
    "    one_hot_matrix = np.zeros((len(labels), num_classes), dtype=int)\n",
    "    one_hot_matrix[np.arange(len(labels)), labels] = 1\n",
    "\n",
    "    return one_hot_matrix\n",
    "\n",
    "# Тестирование функции\n",
    "labels = [0, 2, 3, 0]\n",
    "one_hot_result = one_hot_encoding(labels)\n",
    "\n",
    "# Выводим результат\n",
    "print(\"One-hot encoding:\\n\", one_hot_result)"
   ]
  }
 ],
 "metadata": {
  "colab": {
   "provenance": []
  },
  "kernelspec": {
   "display_name": "Python 3",
   "name": "python3"
  },
  "language_info": {
   "codemirror_mode": {
    "name": "ipython",
    "version": 3
   },
   "file_extension": ".py",
   "mimetype": "text/x-python",
   "name": "python",
   "nbconvert_exporter": "python",
   "pygments_lexer": "ipython3",
   "version": "3.12.4"
  }
 },
 "nbformat": 4,
 "nbformat_minor": 0
}
