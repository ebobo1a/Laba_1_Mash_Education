{
  "cells": [
    {
      "cell_type": "markdown",
      "metadata": {
        "id": "M-DGa20PaHnu"
      },
      "source": [
        "#Задача 1\n",
        "Написать функцию на вход которой подается строка, состоящая из латинских букв.\n",
        "Функция должна вернуть количество гласных букв (a, e, i, o, u) в этой строке. Написать тесты для кода"
      ]
    },
    {
      "cell_type": "code",
      "execution_count": 6,
      "metadata": {
        "colab": {
          "base_uri": "https://localhost:8080/"
        },
        "id": "XvX8X_JJ6PCb",
        "outputId": "299183dc-412e-4ba3-ffcf-56ea1231991e"
      },
      "outputs": [
        {
          "name": "stdout",
          "output_type": "stream",
          "text": [
            "6 6\n",
            "2 2\n",
            "5 5\n",
            "Это не строка Это не строка\n"
          ]
        }
      ],
      "source": [
        "def Count_Letters(s):\n",
        "  if type(s) is not str:\n",
        "    return 'Это не строка'\n",
        "  letters = \"aeiouAEIOU\"\n",
        "  return sum(1 for bukwa in s if bukwa in letters) #В этой части вместо самого символа letter мы возвращаем значение 1 каждый раз, когда встречаем гласную букву.\n",
        "\n",
        "#Тесты\n",
        "print(Count_Letters('oooOOO'), 6)\n",
        "print(Count_Letters('Adfghjke'), 2)\n",
        "print(Count_Letters('GaGaHHHiii'), 5)\n",
        "print(Count_Letters(12345), 'Это не строка')"
      ]
    },
    {
      "cell_type": "markdown",
      "metadata": {
        "id": "t2ClV_Y0bbr6"
      },
      "source": [
        "# Задача 2\n",
        "Написать функцию на вход, которой подается строка. Функция должна вернуть true, если\n",
        "каждый символ в строке встречается только 1 раз, иначе должна вернуть false. Написать тесты для кода"
      ]
    },
    {
      "cell_type": "code",
      "execution_count": 7,
      "metadata": {
        "colab": {
          "base_uri": "https://localhost:8080/"
        },
        "id": "FppbECao6VIz",
        "outputId": "d69ff1ea-c817-493e-86fa-d165a5976c0d"
      },
      "outputs": [
        {
          "name": "stdout",
          "output_type": "stream",
          "text": [
            "False False\n",
            "True True\n",
            "True False\n",
            "Это не строка Это не строка\n"
          ]
        }
      ],
      "source": [
        "def Different_Symbols(s):\n",
        "    # Проверяем, является ли входные данные строкой\n",
        "    if type(s) is not str:\n",
        "        return 'Это не строка'\n",
        "    seen = {} # Создаем пустой словарь для отслеживания символов\n",
        "    \n",
        "    # Проходим по каждому символу в строке\n",
        "    for letter in s:\n",
        "        if letter in seen:  # Проверяем, встречался ли уже этот символ\n",
        "            return False  # Если да, возвращаем False (символ не уникален)\n",
        "        seen[letter] = True   # Если символ не встречался, добавляем его в словарь\n",
        "    return True\n",
        "\n",
        "#Тесты\n",
        "print(Different_Symbols('aassdfg'), False)\n",
        "print(Different_Symbols('asdfghjkl'), True)\n",
        "print(Different_Symbols('фывапролд'), True)\n",
        "print(Different_Symbols(12345), 'Это не строка')"
      ]
    },
    {
      "cell_type": "markdown",
      "metadata": {
        "id": "udRiIK1cdt6E"
      },
      "source": [
        "# Задача 3\n",
        "Написать функцию, которая принимает положительное число и возвращает количество\n",
        "бит равных 1 в этом числе. Написать тесты для кода"
      ]
    },
    {
      "cell_type": "code",
      "execution_count": 8,
      "metadata": {
        "colab": {
          "base_uri": "https://localhost:8080/"
        },
        "id": "6tkfDJRz6dp_",
        "outputId": "2bc7b06f-7f34-4a82-a2a7-2799cedb6395"
      },
      "outputs": [
        {
          "name": "stdout",
          "output_type": "stream",
          "text": [
            "3 3\n",
            "2 2\n",
            "2 2\n"
          ]
        }
      ],
      "source": [
        "def bites(n):\n",
        "  return bin(n).count('1')\n",
        "\n",
        "#Тесты\n",
        "print(bites(7), 3)\n",
        "print(bites(10), 2)\n",
        "print(bites(80), 2)"
      ]
    },
    {
      "cell_type": "markdown",
      "metadata": {
        "id": "26dDUz-Ae17N"
      },
      "source": [
        "# Задача 4\n",
        "Написать функцию, которая принимает положительное число. Функция должна вернуть то,\n",
        "сколько раз необходимо перемножать цифры числа или результат перемножения, чтобы\n",
        "получилось число состоящее из одной цифры.\n",
        "Например, для входного числа:\n",
        "· 39 функция должна вернуть 3, так как 3*9=27 => 2*7=14 => 1*4=4\n",
        "· 4 функция должна вернуть 0, так как число уже состоит из одной цифры\n",
        "· 999 функция должна вернуть 4, так как 9*9*9=729 => 7*2*9=126 => 1*2*6=12 =>\n",
        "1*2=2. Написать тесты для кода"
      ]
    },
    {
      "cell_type": "code",
      "execution_count": 9,
      "metadata": {
        "colab": {
          "base_uri": "https://localhost:8080/"
        },
        "id": "BH1A_Mgi6i4G",
        "outputId": "49a733a9-2121-49d5-bd0b-24fb39d2ec61"
      },
      "outputs": [
        {
          "name": "stdout",
          "output_type": "stream",
          "text": [
            "3 3\n",
            "4 4\n",
            "2 2\n"
          ]
        }
      ],
      "source": [
        "def magic(n):\n",
        "    # Если число уже состоит из одной цифры, возвращаем 0\n",
        "    if n < 10:\n",
        "        return 0\n",
        "    # Счетчик шагов\n",
        "    s = 0\n",
        "    # Пока число не станет однозначным\n",
        "    while n >= 10:\n",
        "        # Разбиваем число на цифры и перемножаем их\n",
        "        p = 1\n",
        "        for d in str(n):\n",
        "            p *= int(d)\n",
        "        n = p\n",
        "        s += 1\n",
        "    return s\n",
        "\n",
        "#Тесты\n",
        "print(magic(39), 3)\n",
        "print(magic(999), 4)\n",
        "print(magic(1234), 2)"
      ]
    },
    {
      "cell_type": "markdown",
      "metadata": {
        "id": "0nS-kIa8g8vd"
      },
      "source": [
        "# Задача 5\n",
        "Написать функцию, которая принимает два целочисленных вектора одинаковой длины и\n",
        "возвращает среднеквадратическое отклонение двух векторов. Написать тесты для кода"
      ]
    },
    {
      "cell_type": "code",
      "execution_count": 4,
      "metadata": {
        "colab": {
          "base_uri": "https://localhost:8080/"
        },
        "id": "8iphx4LM6xbx",
        "outputId": "481a33c7-7905-4361-99d1-7dc2be2a3954"
      },
      "outputs": [
        {
          "name": "stdout",
          "output_type": "stream",
          "text": [
            "0.0 0\n",
            "1.63 1.63\n",
            "0.0 0\n",
            "Вектора разной длины Вектора разной длины\n"
          ]
        }
      ],
      "source": [
        "def mse(pred, true):\n",
        "     # Проверяем, что длины векторов совпадают\n",
        "    if len(pred) != len(true):\n",
        "        return \"Вектора разной длины\"\n",
        "    # Вычисляем сумму квадратов разностей и делим на количество элементов\n",
        "    return round((sum((p - t) ** 2 for p, t in zip(pred, true)) / len(pred))**0.5, 2)\n",
        "\n",
        "\n",
        "#Тесты\n",
        "print(mse([1, 2, 3], [1, 2, 3]), 0)\n",
        "print(mse([1, 2, 3], [3, 2, 1]), 1.63)\n",
        "print(mse([0, 0, 0], [0, 0, 0]), 0)\n",
        "print(mse([1, 2], [3, 4, 5]), 'Вектора разной длины')"
      ]
    },
    {
      "cell_type": "markdown",
      "metadata": {
        "id": "vpIPKL439zkw"
      },
      "source": [
        "# Задача 6\n",
        "Написать функцию, принимающая целое положительное число. Функция должна вернуть\n",
        "строку вида “(n1**p1)(n2**p2)…(nk**pk)” представляющая разложение числа на простые\n",
        "множители (если pi == 1, то выводить только ni).\n",
        "Например, для числа 86240 функция должна вернуть “(2**5)(5)(7**2)(11)”. Написать тесты для кода"
      ]
    },
    {
      "cell_type": "code",
      "execution_count": 3,
      "metadata": {
        "colab": {
          "base_uri": "https://localhost:8080/"
        },
        "id": "pFebmcZk94Jw",
        "outputId": "6400dce5-44ca-46f2-d510-c05b29d7919f"
      },
      "outputs": [
        {
          "name": "stdout",
          "output_type": "stream",
          "text": [
            "(2**5)(5)(7**2)(11) (2**5)(5)(7**2)(11)\n",
            "(2**2)(5**2) (2**2)(5**2)\n",
            " пустоту\n",
            "(2)(3)(5) (2)(3)(5)\n"
          ]
        }
      ],
      "source": [
        "def rchisla_na_pr_mn(n):\n",
        "    if n <= 0:\n",
        "        raise ValueError(\"Не корректные данные\")\n",
        "    \n",
        "    factors = {}\n",
        "    # Проверяем количество двоек, делящих число\n",
        "    while n % 2 == 0:\n",
        "        if 2 in factors:\n",
        "            factors[2] += 1\n",
        "        else:\n",
        "            factors[2] = 1\n",
        "        n //= 2\n",
        "\n",
        "    # Проверяем нечетные числа от 3 до корня из n\n",
        "    for i in range(3, int(n**0.5) + 1, 2):\n",
        "        while n % i == 0:\n",
        "            if i in factors:\n",
        "                factors[i] += 1\n",
        "            else:\n",
        "                factors[i] = 1\n",
        "            n //= i\n",
        "    \n",
        "    # Если n стало простым числом больше 2\n",
        "    if n > 2:\n",
        "        factors[n] = 1\n",
        "\n",
        "    # Формируем строку из множителей\n",
        "    result = ''\n",
        "    for prime, power in factors.items():\n",
        "        if power == 1:\n",
        "            result += f\"({prime})\"\n",
        "        else:\n",
        "            result += f\"({prime}**{power})\"\n",
        "    \n",
        "    return result\n",
        "\n",
        "# Тесты\n",
        "print(rchisla_na_pr_mn(86240), \"(2**5)(5)(7**2)(11)\")  \n",
        "print(rchisla_na_pr_mn(100), \"(2**2)(5**2)\")    \n",
        "print(rchisla_na_pr_mn(1), \"пустоту\")       \n",
        "print(rchisla_na_pr_mn(30), \"(2)(3)(5)\")    \n"
      ]
    },
    {
      "cell_type": "markdown",
      "metadata": {
        "id": "ps2s0BudX7A2"
      },
      "source": [
        "# Задача 7\n",
        "Написать функцию, принимающая целое число n, задающее количество кубиков. Функция\n",
        "должна определить, можно ли из данного кол-ва кубиков построить пирамиду, то есть\n",
        "можно ли представить число n как 1^2+2^2+3^2+…+k^2. Если можно, то функция должна\n",
        "вернуть k, иначе строку “It is impossible”. Написать тесты для кода"
      ]
    },
    {
      "cell_type": "code",
      "execution_count": null,
      "metadata": {
        "colab": {
          "base_uri": "https://localhost:8080/"
        },
        "id": "3YPjEXxhX_YT",
        "outputId": "571ac4be-db65-4213-abce-980d3122801e"
      },
      "outputs": [
        {
          "name": "stdout",
          "output_type": "stream",
          "text": [
            "1\n",
            "2\n",
            "3\n",
            "4\n",
            "5\n",
            "It is impossible\n",
            "It is impossible\n"
          ]
        }
      ],
      "source": [
        "def pyramid(number):\n",
        "    # Проверяем, является ли число меньше 1\n",
        "    if number < 1:\n",
        "        return \"It is impossible\"\n",
        "    k = 0\n",
        "    t = 0\n",
        "    # Цикл, продолжающийся, пока сумма квадратов меньше заданного числа\n",
        "    while t < number:\n",
        "        k += 1  # Увеличиваем уровень пирамиды\n",
        "        t += k ** 2  # Добавляем квадрат текущего уровня к сумме\n",
        "    # Проверяем, равно ли t заданному числу\n",
        "    if t == number:\n",
        "        return k\n",
        "    else:\n",
        "        return \"It is impossible\"\n",
        "\n",
        "# Тесты\n",
        "print(pyramid(1), 1)\n",
        "print(pyramid(5), 2)\n",
        "print(pyramid(14), 3)\n",
        "print(pyramid(30), 4)\n",
        "print(pyramid(55), 5)\n",
        "print(pyramid(0), 'It is impossible')\n",
        "print(pyramid(7), 'It is impossible')"
      ]
    },
    {
      "cell_type": "markdown",
      "metadata": {
        "id": "KeKgmIdAQMEJ"
      },
      "source": [
        "# Задача 8\n",
        "Функция принимает на вход положительное число и определяет является ли оно сбалансированным, т.е. сумма цифр до средних равна сумме цифр после. Средними в случае нечетного числа цифр считать одну цифру, в случае четного - две средних. Написать тесты для кода"
      ]
    },
    {
      "cell_type": "code",
      "execution_count": null,
      "metadata": {
        "colab": {
          "base_uri": "https://localhost:8080/"
        },
        "id": "gMAAqtqlQrZt",
        "outputId": "901d2aa3-ed59-4da2-fdf0-5429e8b78414"
      },
      "outputs": [
        {
          "name": "stdout",
          "output_type": "stream",
          "text": [
            "True True\n",
            "True True\n",
            "False False\n",
            "True True\n",
            "False False\n",
            "Число не положительное Число не положительное\n"
          ]
        }
      ],
      "source": [
        "def BalanceNumber(n):\n",
        "    # Проверяем, является ли число неположительным\n",
        "    if n <= 0:\n",
        "        return 'Число не положительное'\n",
        "    s = str(n)\n",
        "    lenn = len(s)\n",
        "    # Проверяем, является ли длина числа четной\n",
        "    if lenn % 2 == 0:\n",
        "        mid = lenn // 2\n",
        "        # Считаем сумму цифр левой половины\n",
        "        left = sum(int(d) for d in s[:mid])\n",
        "        # Считаем сумму цифр правой половины\n",
        "        right = sum(int(d) for d in s[mid:])\n",
        "    else:\n",
        "        mid = lenn // 2\n",
        "        # Считаем сумму цифр левой половины\n",
        "        left = sum(int(d) for d in s[:mid])\n",
        "        # Считаем сумму цифр правой половины (пропуская среднюю цифру)\n",
        "        right = sum(int(d) for d in s[mid + 1:])\n",
        "    return left == right\n",
        "\n",
        "# Тесты\n",
        "print(BalanceNumber(123321), True)\n",
        "print(BalanceNumber(1234321), True)\n",
        "print(BalanceNumber(1233210), False)\n",
        "print(BalanceNumber(12321), True)\n",
        "print(BalanceNumber(123), False)\n",
        "print(BalanceNumber(0), 'Число не положительное')"
      ]
    }
  ],
  "metadata": {
    "colab": {
      "provenance": []
    },
    "kernelspec": {
      "display_name": "Python 3",
      "name": "python3"
    },
    "language_info": {
      "codemirror_mode": {
        "name": "ipython",
        "version": 3
      },
      "file_extension": ".py",
      "mimetype": "text/x-python",
      "name": "python",
      "nbconvert_exporter": "python",
      "pygments_lexer": "ipython3",
      "version": "3.12.4"
    }
  },
  "nbformat": 4,
  "nbformat_minor": 0
}
